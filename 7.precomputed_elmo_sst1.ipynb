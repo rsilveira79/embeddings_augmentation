{
 "cells": [
  {
   "cell_type": "code",
   "execution_count": 1,
   "metadata": {},
   "outputs": [
    {
     "name": "stdout",
     "output_type": "stream",
     "text": [
      "PyTorch: 1.0.0.dev20190206\n",
      "Using CUDA device: 0\n",
      "- # GPU device: 1\n",
      "- Device Name: GeForce GTX 1080 Ti\n",
      "- Device Proprierties: _CudaDeviceProperties(name='GeForce GTX 1080 Ti', major=6, minor=1, total_memory=11175MB, multi_processor_count=28)\n"
     ]
    }
   ],
   "source": [
    "# Torch, Sklearn imports\n",
    "import torch\n",
    "import torch.optim as optim\n",
    "import torch.nn as nn\n",
    "import torch.nn.functional as F\n",
    "from torch.autograd import Variable\n",
    "from torch.utils.data import Dataset, DataLoader\n",
    "print(\"PyTorch: {}\".format(torch.__version__))\n",
    "if torch.cuda.is_available():\n",
    "    device = torch.cuda.current_device()\n",
    "    print(\"Using CUDA device: {}\".format(device))\n",
    "    print(\"- # GPU device: {}\".format(torch.cuda.device_count()))\n",
    "    print(\"- Device Name: {}\".format(torch.cuda.get_device_name(device)))\n",
    "    print(\"- Device Proprierties: {}\".format(torch.cuda.get_device_properties(device)))"
   ]
  },
  {
   "cell_type": "code",
   "execution_count": 2,
   "metadata": {},
   "outputs": [],
   "source": [
    "## General libs\n",
    "import numpy as np\n",
    "import pandas as pd\n",
    "from string import punctuation\n",
    "import os, re, sys, json, requests, pickle\n",
    "\n",
    "## Sklearn\n",
    "from sklearn.model_selection import train_test_split"
   ]
  },
  {
   "cell_type": "code",
   "execution_count": 3,
   "metadata": {},
   "outputs": [],
   "source": [
    "with open(\"dataset/train_elmos.pkl\",\"rb\") as f:\n",
    "    train_elmos, train_labels = pickle.load(f)"
   ]
  },
  {
   "cell_type": "code",
   "execution_count": 4,
   "metadata": {},
   "outputs": [],
   "source": [
    "with open(\"dataset/test_elmos.pkl\",\"rb\") as f:\n",
    "    test_elmos, test_labels = pickle.load(f)"
   ]
  },
  {
   "cell_type": "code",
   "execution_count": 5,
   "metadata": {},
   "outputs": [
    {
     "data": {
      "text/plain": [
       "((68916, 1024), (68916,), (2140, 1024), (2140,))"
      ]
     },
     "execution_count": 5,
     "metadata": {},
     "output_type": "execute_result"
    }
   ],
   "source": [
    "train_elmos.shape, train_labels.shape, test_elmos.shape, test_labels.shape"
   ]
  },
  {
   "cell_type": "markdown",
   "metadata": {},
   "source": [
    "## Train/Valid Split"
   ]
  },
  {
   "cell_type": "code",
   "execution_count": 6,
   "metadata": {},
   "outputs": [
    {
     "data": {
      "text/plain": [
       "((55132, 1024), (55132,))"
      ]
     },
     "execution_count": 6,
     "metadata": {},
     "output_type": "execute_result"
    }
   ],
   "source": [
    "x_train, x_valid, y_train, y_valid = train_test_split(train_elmos, train_labels, test_size=0.20, random_state=42)\n",
    "x_train.shape, y_train.shape"
   ]
  },
  {
   "cell_type": "code",
   "execution_count": 7,
   "metadata": {},
   "outputs": [],
   "source": [
    "class IntentsPrecomp(Dataset):\n",
    "    def __init__(self, data_x, data_y):\n",
    "        self.len = len(data_x)\n",
    "        self.data = data_x\n",
    "        self.label = data_y\n",
    "        \n",
    "    def __getitem__(self, index):\n",
    "        X = torch.tensor(self.data[index], dtype=torch.float32)\n",
    "        y = torch.tensor(self.label[index], dtype=torch.int64)\n",
    "        return X, y\n",
    "    \n",
    "    def __len__(self):\n",
    "        return self.len"
   ]
  },
  {
   "cell_type": "code",
   "execution_count": 8,
   "metadata": {},
   "outputs": [],
   "source": [
    "training_set = IntentsPrecomp(x_train, y_train)\n",
    "validing_set = IntentsPrecomp(x_valid, y_valid)"
   ]
  },
  {
   "cell_type": "code",
   "execution_count": 9,
   "metadata": {},
   "outputs": [],
   "source": [
    "idx = 0\n",
    "a,b = training_set.__getitem__(idx)"
   ]
  },
  {
   "cell_type": "code",
   "execution_count": 10,
   "metadata": {},
   "outputs": [
    {
     "data": {
      "text/plain": [
       "(tensor([-0.0111,  0.0017,  0.0153,  ...,  0.0377,  0.0142, -0.0148]),\n",
       " tensor(3))"
      ]
     },
     "execution_count": 10,
     "metadata": {},
     "output_type": "execute_result"
    }
   ],
   "source": [
    "a, b"
   ]
  },
  {
   "cell_type": "markdown",
   "metadata": {},
   "source": [
    "## Simple MLP Classifier"
   ]
  },
  {
   "cell_type": "code",
   "execution_count": 11,
   "metadata": {},
   "outputs": [],
   "source": [
    "class SimpleMLP(nn.Module):\n",
    "    def __init__(self, inputdim, \n",
    "                        nclasses, \n",
    "                        nhidden, \n",
    "                        dropout = 0):\n",
    "        super(SimpleMLP, self).__init__()\n",
    "        \"\"\"\n",
    "        PARAMETERS:\n",
    "        -dropout:    dropout for MLP\n",
    "        \"\"\"\n",
    "        \n",
    "        self.inputdim = inputdim\n",
    "        self.hidden_dim = nhidden\n",
    "        self.dropout = dropout\n",
    "        self.nclasses = nclasses\n",
    "        self.model = nn.Sequential(\n",
    "            nn.Linear(self.inputdim, nhidden),\n",
    "            nn.Dropout(p=self.dropout),\n",
    "            nn.ReLU(),\n",
    "            nn.Linear(nhidden, self.nclasses),\n",
    "            )\n",
    "        if torch.cuda.is_available():\n",
    "            self.model = self.model.cuda()\n",
    "    def forward(self, x):\n",
    "        log_probs = self.model(x)\n",
    "        return log_probs"
   ]
  },
  {
   "cell_type": "code",
   "execution_count": 12,
   "metadata": {},
   "outputs": [],
   "source": [
    "INP_DIM = train_elmos.shape[1]\n",
    "NUM_LABELS = len((set(test_labels)))\n",
    "NHIDDEN = 1024\n",
    "DROPOUT = 0.2"
   ]
  },
  {
   "cell_type": "code",
   "execution_count": null,
   "metadata": {},
   "outputs": [],
   "source": [
    "model = SimpleMLP(inputdim = INP_DIM ,\n",
    "              nhidden = NHIDDEN,\n",
    "              nclasses = NUM_LABELS,\n",
    "              dropout = DROPOUT)\n",
    "\n",
    "if torch.cuda.is_available():\n",
    "    device = torch.device(\"cuda:0\")\n",
    "    model = model.to(device)\n",
    "    model.cuda()"
   ]
  },
  {
   "cell_type": "code",
   "execution_count": null,
   "metadata": {},
   "outputs": [],
   "source": [
    "samp = training_set.__getitem__(0)[0].cuda()\n",
    "model.forward(samp)"
   ]
  },
  {
   "cell_type": "markdown",
   "metadata": {},
   "source": [
    "### Training"
   ]
  },
  {
   "cell_type": "code",
   "execution_count": 174,
   "metadata": {},
   "outputs": [],
   "source": [
    "# Dataloaders Parameters\n",
    "params = {'batch_size': 32,\n",
    "          'shuffle': True,\n",
    "          'num_workers': 0}\n",
    "max_epochs = 45\n",
    "learning_rate = 0.0001 "
   ]
  },
  {
   "cell_type": "code",
   "execution_count": 173,
   "metadata": {},
   "outputs": [
    {
     "ename": "NameError",
     "evalue": "name 'model' is not defined",
     "output_type": "error",
     "traceback": [
      "\u001b[0;31m---------------------------------------------------------------------------\u001b[0m",
      "\u001b[0;31mNameError\u001b[0m                                 Traceback (most recent call last)",
      "\u001b[0;32m<ipython-input-173-ef3a31e99c97>\u001b[0m in \u001b[0;36m<module>\u001b[0;34m\u001b[0m\n\u001b[1;32m      2\u001b[0m \u001b[0mvalid_loader\u001b[0m \u001b[0;34m=\u001b[0m \u001b[0mDataLoader\u001b[0m\u001b[0;34m(\u001b[0m\u001b[0mvaliding_set\u001b[0m\u001b[0;34m,\u001b[0m \u001b[0;34m**\u001b[0m\u001b[0mparams\u001b[0m\u001b[0;34m)\u001b[0m\u001b[0;34m\u001b[0m\u001b[0;34m\u001b[0m\u001b[0m\n\u001b[1;32m      3\u001b[0m \u001b[0mloss_function\u001b[0m \u001b[0;34m=\u001b[0m \u001b[0mnn\u001b[0m\u001b[0;34m.\u001b[0m\u001b[0mCrossEntropyLoss\u001b[0m\u001b[0;34m(\u001b[0m\u001b[0;34m)\u001b[0m\u001b[0;34m\u001b[0m\u001b[0;34m\u001b[0m\u001b[0m\n\u001b[0;32m----> 4\u001b[0;31m \u001b[0moptimizer\u001b[0m \u001b[0;34m=\u001b[0m \u001b[0moptim\u001b[0m\u001b[0;34m.\u001b[0m\u001b[0mAdam\u001b[0m\u001b[0;34m(\u001b[0m\u001b[0mparams\u001b[0m \u001b[0;34m=\u001b[0m  \u001b[0mmodel\u001b[0m\u001b[0;34m.\u001b[0m\u001b[0mparameters\u001b[0m\u001b[0;34m(\u001b[0m\u001b[0;34m)\u001b[0m\u001b[0;34m,\u001b[0m \u001b[0mlr\u001b[0m\u001b[0;34m=\u001b[0m\u001b[0mlearning_rate\u001b[0m\u001b[0;34m)\u001b[0m\u001b[0;34m\u001b[0m\u001b[0;34m\u001b[0m\u001b[0m\n\u001b[0m",
      "\u001b[0;31mNameError\u001b[0m: name 'model' is not defined"
     ]
    }
   ],
   "source": [
    "train_loader = DataLoader(training_set, **params)\n",
    "valid_loader = DataLoader(validing_set, **params)\n",
    "loss_function = nn.CrossEntropyLoss()\n",
    "optimizer = optim.Adam(params =  model.parameters(), lr=learning_rate)"
   ]
  },
  {
   "cell_type": "code",
   "execution_count": null,
   "metadata": {},
   "outputs": [],
   "source": [
    "for epoch in range(max_epochs):\n",
    "    print(\"EPOCH -- {}\".format(epoch))\n",
    "    for i, (sent, label) in enumerate(train_loader):\n",
    "        optimizer.zero_grad() \n",
    "        if torch.cuda.is_available():\n",
    "            sent = sent.cuda()\n",
    "            label = label.cuda()\n",
    "        output = model.forward(sent)\n",
    "        loss = loss_function(output, label)\n",
    "        loss.backward()\n",
    "        optimizer.step()\n",
    "        if i%1000 == 0:      \n",
    "            correct = 0\n",
    "            total = 0\n",
    "            for sent, label in valid_loader:      \n",
    "                if torch.cuda.is_available():\n",
    "                    sent = sent.cuda()\n",
    "                    label = label.cuda()\n",
    "                output = model.forward(sent)\n",
    "                _, predicted = torch.max(output.data, 1)\n",
    "                total += label.size(0)\n",
    "                correct += (predicted.cpu() == label.cpu()).sum()\n",
    "            accuracy = 100.00 * correct.numpy() / total\n",
    "            print('LOSS: {}. VALID ACCURACY: {}%'.format(loss.data, accuracy))"
   ]
  },
  {
   "cell_type": "markdown",
   "metadata": {},
   "source": [
    "### Checking Test Error"
   ]
  },
  {
   "cell_type": "code",
   "execution_count": null,
   "metadata": {},
   "outputs": [],
   "source": [
    "correct = 0\n",
    "total = 0\n",
    "for i, utt in enumerate(test_elmos):\n",
    "    X = torch.tensor(utt, dtype=torch.float32).cuda()\n",
    "    y = torch.tensor(test_labels[i], dtype=torch.int64)\n",
    "    logits_out = model(X)\n",
    "    softmax_out = F.softmax(logits_out, dim=0).cpu()\n",
    "    _, pred_label = torch.max(softmax_out.data, 0)\n",
    "    total +=1\n",
    "    if pred_label == y:\n",
    "        correct += 1\n",
    "test_accuracy = 100.00 * correct / total\n",
    "print(\"TEST ACCURACY  -- {}\".format(test_accuracy))"
   ]
  },
  {
   "cell_type": "markdown",
   "metadata": {},
   "source": [
    "## Implementing Augmentation Class"
   ]
  },
  {
   "cell_type": "code",
   "execution_count": 175,
   "metadata": {},
   "outputs": [],
   "source": [
    "%matplotlib inline\n",
    "from torch.nn.functional import interpolate\n",
    "from sklearn.manifold import TSNE\n",
    "import matplotlib.pyplot as plt"
   ]
  },
  {
   "cell_type": "code",
   "execution_count": 176,
   "metadata": {},
   "outputs": [],
   "source": [
    "def get_linear_interpolation(interp_label, \n",
    "                             dataset_data, \n",
    "                             dataset_labels, \n",
    "                             num_interp_points=30,        # number of points used to interpolate\n",
    "                             num_interp_samples=1,\n",
    "                             return_all_points = False):       # number of outpout interpolated points\n",
    "    idx = np.where(dataset_labels==interp_label)[0]\n",
    "    interp_idx = np.random.choice(idx, num_interp_points)\n",
    "    interp_points = torch.tensor(dataset_data[interp_idx].T).unsqueeze(dim=0) \n",
    "    #print(interp_points.shape)\n",
    "    \n",
    "    ## Random selector for which interpolated phrase to pick\n",
    "    rand_phrase = np.random.randint(num_interp_samples, size = 1)\n",
    "    interp = interpolate(interp_points, size=(num_interp_samples), mode='linear', align_corners=True).squeeze(0).numpy().T\n",
    "    #print(interp.shape)\n",
    "    \n",
    "    if return_all_points == False:\n",
    "        interp =interp[rand_phrase]      ## Pick Randomly 1 point sample\n",
    "    return interp.squeeze(0).T"
   ]
  },
  {
   "cell_type": "code",
   "execution_count": 177,
   "metadata": {},
   "outputs": [
    {
     "data": {
      "text/plain": [
       "(1024,)"
      ]
     },
     "execution_count": 177,
     "metadata": {},
     "output_type": "execute_result"
    }
   ],
   "source": [
    "get_linear_interpolation(4, train_elmos, train_labels, \n",
    "                         num_interp_points = 40, \n",
    "                         num_interp_samples= 1,\n",
    "                         return_all_points = False).shape"
   ]
  },
  {
   "cell_type": "code",
   "execution_count": 178,
   "metadata": {},
   "outputs": [],
   "source": [
    "class AugmentedIntents(Dataset):\n",
    "    def __init__(self, data_x, data_y , num_interp_points, num_samples, alpha, augmentation = True):\n",
    "        self.len = len(data_x)\n",
    "        self.data = data_x\n",
    "        self.label = data_y\n",
    "        self.augmentation = augmentation\n",
    "        self.num_interp_points = num_interp_points,  ## number of points used in interpolation\n",
    "        self.num_samples = num_samples               ## number of samples drawn from interpolation\n",
    "        self.alpha = alpha                           ## probabilty to get a real phrase vs interpolated phrase\n",
    "        \n",
    "    def __getitem__(self, index):\n",
    "        y = torch.tensor(self.label[index], dtype=torch.int64)\n",
    "        if self.augmentation:\n",
    "            proba = np.random.binomial(1, self.alpha )\n",
    "            if proba == 1:\n",
    "                X = torch.tensor(self.data[index], dtype=torch.float32)\n",
    "            elif proba == 0:\n",
    "                #print(\"Interpolada\")\n",
    "                X =  torch.tensor(get_linear_interpolation(y.cpu().numpy(), \n",
    "                                              self.data, \n",
    "                                              self.label, \n",
    "                                              self.num_interp_points, \n",
    "                                              self.num_samples,\n",
    "                                              return_all_points = False), dtype=torch.float32)\n",
    "        else:\n",
    "            X = torch.tensor(self.data[index], dtype=torch.float32)\n",
    "        return X, y\n",
    "    \n",
    "    def __len__(self):\n",
    "        return self.len"
   ]
  },
  {
   "cell_type": "code",
   "execution_count": 179,
   "metadata": {},
   "outputs": [],
   "source": [
    "num_samples = 1\n",
    "num_interp_points = 2000\n",
    "alpha = 0.5\n",
    "training_set = AugmentedIntents(x_train, y_train, num_interp_points, num_samples, alpha, augmentation = True)\n",
    "validing_set = AugmentedIntents(x_valid, y_valid, num_interp_points, num_samples, alpha, augmentation = False)"
   ]
  },
  {
   "cell_type": "code",
   "execution_count": 180,
   "metadata": {},
   "outputs": [],
   "source": [
    "idx = 0\n",
    "a,b = training_set.__getitem__(idx)"
   ]
  },
  {
   "cell_type": "code",
   "execution_count": 181,
   "metadata": {},
   "outputs": [],
   "source": [
    "model_2 = SimpleMLP(inputdim = INP_DIM ,\n",
    "              nhidden = NHIDDEN,\n",
    "              nclasses = NUM_LABELS,\n",
    "              dropout = DROPOUT)\n",
    "\n",
    "if torch.cuda.is_available():\n",
    "    device = torch.device(\"cuda:0\")\n",
    "    model_2 = model_2.to(device)\n",
    "    model_2.cuda()"
   ]
  },
  {
   "cell_type": "code",
   "execution_count": 182,
   "metadata": {},
   "outputs": [
    {
     "data": {
      "text/plain": [
       "tensor([ 0.0135,  0.0135,  0.0056, -0.0461, -0.0104], device='cuda:0',\n",
       "       grad_fn=<AddBackward0>)"
      ]
     },
     "execution_count": 182,
     "metadata": {},
     "output_type": "execute_result"
    }
   ],
   "source": [
    "samp = training_set.__getitem__(0)[0].cuda()\n",
    "model_2.forward(samp)"
   ]
  },
  {
   "cell_type": "code",
   "execution_count": 183,
   "metadata": {},
   "outputs": [],
   "source": [
    "train_loader = DataLoader(training_set, **params)\n",
    "valid_loader = DataLoader(validing_set, **params)\n",
    "loss_function = nn.CrossEntropyLoss()\n",
    "optimizer = optim.Adam(params =  model_2.parameters(), lr=learning_rate)"
   ]
  },
  {
   "cell_type": "code",
   "execution_count": null,
   "metadata": {},
   "outputs": [
    {
     "name": "stdout",
     "output_type": "stream",
     "text": [
      "EPOCH -- 0\n",
      "LOSS: 1.6198681592941284. VALID ACCURACY: 11.302959953569356%\n",
      "LOSS: 1.309521198272705. VALID ACCURACY: 49.6445153801509%\n",
      "EPOCH -- 1\n",
      "LOSS: 1.033869981765747. VALID ACCURACY: 51.574289030760305%\n",
      "LOSS: 0.985174834728241. VALID ACCURACY: 52.15467208357516%\n",
      "EPOCH -- 2\n",
      "LOSS: 1.0202715396881104. VALID ACCURACY: 52.55368543238537%\n",
      "LOSS: 1.0046827793121338. VALID ACCURACY: 53.199361578641906%\n",
      "EPOCH -- 3\n",
      "LOSS: 0.9870170950889587. VALID ACCURACY: 53.279164248403944%\n",
      "LOSS: 1.3163374662399292. VALID ACCURACY: 53.49680789320952%\n",
      "EPOCH -- 4\n",
      "LOSS: 1.0523302555084229. VALID ACCURACY: 54.106210098665116%\n",
      "LOSS: 1.2577253580093384. VALID ACCURACY: 53.81601857225769%\n",
      "EPOCH -- 5\n",
      "LOSS: 1.267742395401001. VALID ACCURACY: 54.07719094602437%\n",
      "LOSS: 1.1621816158294678. VALID ACCURACY: 54.14248403946605%\n",
      "EPOCH -- 6\n",
      "LOSS: 1.0908269882202148. VALID ACCURACY: 54.30934416715032%\n",
      "LOSS: 1.178288459777832. VALID ACCURACY: 54.40365641323273%\n",
      "EPOCH -- 7\n",
      "LOSS: 0.9422082901000977. VALID ACCURACY: 54.28032501450958%\n",
      "LOSS: 1.0201970338821411. VALID ACCURACY: 54.56326175275682%\n",
      "EPOCH -- 8\n",
      "LOSS: 0.8942907452583313. VALID ACCURACY: 54.7736506094022%\n"
     ]
    }
   ],
   "source": [
    "for epoch in range(max_epochs):\n",
    "    print(\"EPOCH -- {}\".format(epoch))\n",
    "    for i, (sent, label) in enumerate(train_loader):\n",
    "        optimizer.zero_grad() \n",
    "        if torch.cuda.is_available():\n",
    "            sent = sent.cuda()\n",
    "            label = label.cuda()\n",
    "        output = model_2.forward(sent)\n",
    "        loss = loss_function(output, label)\n",
    "        loss.backward()\n",
    "        optimizer.step()\n",
    "        if i%1000 == 0:      \n",
    "            correct = 0\n",
    "            total = 0\n",
    "            for sent, label in valid_loader:      \n",
    "                if torch.cuda.is_available():\n",
    "                    sent = sent.cuda()\n",
    "                    label = label.cuda()\n",
    "                output = model_2.forward(sent)\n",
    "                _, predicted = torch.max(output.data, 1)\n",
    "                total += label.size(0)\n",
    "                correct += (predicted.cpu() == label.cpu()).sum()\n",
    "            accuracy = 100.00 * correct.numpy() / total\n",
    "            print('LOSS: {}. VALID ACCURACY: {}%'.format(loss.data, accuracy))"
   ]
  },
  {
   "cell_type": "code",
   "execution_count": 171,
   "metadata": {},
   "outputs": [
    {
     "name": "stdout",
     "output_type": "stream",
     "text": [
      "TEST ACCURACY  -- 47.47663551401869\n"
     ]
    }
   ],
   "source": [
    "correct = 0\n",
    "total = 0\n",
    "for i, utt in enumerate(test_elmos):\n",
    "    X = torch.tensor(utt, dtype=torch.float32).cuda()\n",
    "    y = torch.tensor(test_labels[i], dtype=torch.int64)\n",
    "    logits_out = model_2(X)\n",
    "    softmax_out = F.softmax(logits_out, dim=0).cpu()\n",
    "    _, pred_label = torch.max(softmax_out.data, 0)\n",
    "    total +=1\n",
    "    if pred_label == y:\n",
    "        correct += 1\n",
    "test_accuracy = 100.00 * correct / total\n",
    "print(\"TEST ACCURACY  -- {}\".format(test_accuracy))"
   ]
  },
  {
   "cell_type": "markdown",
   "metadata": {},
   "source": [
    "| Alpha (Real/Sintetic) | Num Samples Interpolated | Valid Accuracy % | Test Accuracy % | Epochs | Mini-Batch Size |\n",
    "| --- | --- | --- | --- | -- | -- | \n",
    "| <font color='red'> 1 (no augmentation) </font> |  -  | <font color='red'> 58.31  </font>| <font color='red'> 46.02  </font> |  30  | 32 |\n",
    "| 0.5 | 10  | 57.1 | 46.8 |  30  | 32 |\n",
    "| 0.7 | 10  | 57.57 | 45.88 |  30  | 32 |\n",
    "| 0.9 | 10  | 57.52 | 46.40 |  30  | 32 |\n",
    "| 0.5 | 30  | 57.41 | 45.74 |  30  | 32 |\n",
    "| 0.7 | 30  | 58.26 | 46.12 |  30  | 32 |\n",
    "| 0.9 | 30  | 57.63 | 45.65 |  30  | 32 |\n",
    "| 0.5 | 50  | 58.17 | 46.12 |  30  | 32 |\n",
    "| 0.7 | 50  | 57.98 | 46.02 |  30  | 32 |\n",
    "| 0.9 | 50  | 57.61 | 47.24 |  30  | 32 |\n",
    "| 0.5 | 100  | 57.50 | 46.26 |  30  | 32 |\n",
    "| 0.7 | 100  | 57.70 | 47.24 |  30  | 32 |\n",
    "| 0.9 | 100  | 57.61 | 46.30 |  30  | 32 |\n",
    "| 0.5 | 300  | 57.65 | 46.54 | 30 | 32 |\n",
    "| 0.7 | 300  | 57.85 | 47.00 | 30  | 32 |\n",
    "| 0.9 | 300  |  57.63 | **47.57** | 30 | 32 |\n",
    "| 0.5 | 500  | 57.55 | 47.10 | 30 | 32 |\n",
    "| 0.7 | 500  | 57.88 | 47.05 | 30 | 32 |\n",
    "| 0.9 | 500  | 57.34 | 47.47 | 30  | 32 |\n",
    "| 0.5 | 2000  |  |  | 45  | 32 |\n",
    "| 0.7 | 2000  |  |  | 45  | 32 |\n",
    "| 0.9 | 2000  |  |  | 45  | 32 |"
   ]
  },
  {
   "cell_type": "code",
   "execution_count": null,
   "metadata": {},
   "outputs": [],
   "source": []
  }
 ],
 "metadata": {
  "kernelspec": {
   "display_name": "Python 3",
   "language": "python",
   "name": "python3"
  },
  "language_info": {
   "codemirror_mode": {
    "name": "ipython",
    "version": 3
   },
   "file_extension": ".py",
   "mimetype": "text/x-python",
   "name": "python",
   "nbconvert_exporter": "python",
   "pygments_lexer": "ipython3",
   "version": "3.6.7"
  }
 },
 "nbformat": 4,
 "nbformat_minor": 2
}
