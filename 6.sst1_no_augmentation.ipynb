{
 "cells": [
  {
   "cell_type": "code",
   "execution_count": 1,
   "metadata": {},
   "outputs": [],
   "source": [
    "#!pip install --upgrade pip\n",
    "#!pip install -U numpy\n",
    "#!pip install gensim \n",
    "#!pip install spacy==2.0.10\n",
    "#!pip install greenlet\n",
    "#!pip install allennlp --user\n",
    "#!pip install torch_nightly -f https://download.pytorch.org/whl/nightly/cu90/torch_nightly.html"
   ]
  },
  {
   "cell_type": "markdown",
   "metadata": {},
   "source": [
    "### Cuda Nightly\n",
    "\"cuda_8\": \"https://download.pytorch.org/whl/nightly/cu80/torch_nightly.html\",  \n",
    "\"cuda_9\": \"https://download.pytorch.org/whl/nightly/cu90/torch_nightly.html\",  \n",
    "\"cuda_10\": \"https://download.pytorch.org/whl/nightly/cu100/torch_nightly.html\",  \n",
    "\"no_cuda\": \"https://download.pytorch.org/whl/nightly/cpu/torch_nightly.html\",  "
   ]
  },
  {
   "cell_type": "code",
   "execution_count": 2,
   "metadata": {},
   "outputs": [],
   "source": [
    "# Torch, Sklearn imports\n",
    "import torch\n",
    "import torch.optim as optim\n",
    "import torch.nn as nn\n",
    "import torch.nn.functional as F\n",
    "from torch.autograd import Variable\n",
    "from torch.utils.data import Dataset, DataLoader"
   ]
  },
  {
   "cell_type": "code",
   "execution_count": 3,
   "metadata": {},
   "outputs": [
    {
     "name": "stdout",
     "output_type": "stream",
     "text": [
      "PyTorch: 1.0.0.dev20190206\n",
      "AllenNLP: 0.8.1\n",
      "Using CUDA device: 0\n",
      "- # GPU device: 1\n",
      "- Device Name: GeForce GTX 1080 Ti\n",
      "- Device Proprierties: _CudaDeviceProperties(name='GeForce GTX 1080 Ti', major=6, minor=1, total_memory=11175MB, multi_processor_count=28)\n"
     ]
    }
   ],
   "source": [
    "## AllenNLP\n",
    "import allennlp\n",
    "from allennlp.modules.elmo import Elmo, batch_to_ids\n",
    "from pytorch_pretrained_bert import BertTokenizer, BertModel, BertForMaskedLM\n",
    "from allennlp.modules.token_embedders import BertEmbedder\n",
    "\n",
    "print(\"PyTorch: {}\".format(torch.__version__))\n",
    "print(\"AllenNLP: {}\".format(allennlp.__version__))\n",
    "if torch.cuda.is_available():\n",
    "    device = torch.cuda.current_device()\n",
    "    print(\"Using CUDA device: {}\".format(device))\n",
    "    print(\"- # GPU device: {}\".format(torch.cuda.device_count()))\n",
    "    print(\"- Device Name: {}\".format(torch.cuda.get_device_name(device)))\n",
    "    print(\"- Device Proprierties: {}\".format(torch.cuda.get_device_properties(device)))"
   ]
  },
  {
   "cell_type": "code",
   "execution_count": 4,
   "metadata": {},
   "outputs": [
    {
     "name": "stderr",
     "output_type": "stream",
     "text": [
      "02/09/2019 19:16:56 - INFO - gensim.summarization.textcleaner -   'pattern' package not found; tag filters are not available for English\n",
      "[nltk_data] Downloading package stopwords to\n",
      "[nltk_data]     /home/roberto/nltk_data...\n",
      "[nltk_data]   Package stopwords is already up-to-date!\n"
     ]
    }
   ],
   "source": [
    "## NLP libs\n",
    "from nltk import download\n",
    "import gensim\n",
    "from nltk.corpus import stopwords\n",
    "download('stopwords')\n",
    "\n",
    "## Sklearn imports\n",
    "from sklearn.datasets import fetch_20newsgroups\n",
    "\n",
    "## General libs\n",
    "import numpy as np\n",
    "import pandas as pd\n",
    "from string import punctuation\n",
    "import os, re, sys, json, requests, pickle"
   ]
  },
  {
   "cell_type": "code",
   "execution_count": 5,
   "metadata": {},
   "outputs": [],
   "source": [
    "def transformText(text, do_stop=False, do_stem=False, do_lema = False):\n",
    "    stops = set(stopwords.words(\"english\"))\n",
    "    # Convert text to lower\n",
    "    text = text.lower()\n",
    "    \n",
    "    # Removing E-mails  \n",
    "    text = re.sub(r'[^\\x00-\\x7f]',r' ',text)\n",
    "    text = re.sub(r'\\S*@\\S*\\s?', r' ', text)\n",
    "    \n",
    "    # Removing non ASCII chars    \n",
    "    text = re.sub(r'[^\\x00-\\x7f]',r' ',text)\n",
    "    \n",
    "    # Removing Newline\n",
    "    text = text.rstrip()\n",
    "    # Removing all the stopwords\n",
    "    if (do_stop==True):\n",
    "        filtered_words = [word for word in text.split() if word not in stops]\n",
    "    else:\n",
    "        filtered_words = [word for word in text.split()]\n",
    "    \n",
    "    # Preprocessed text after stop words removal\n",
    "    text = \" \".join(filtered_words)\n",
    "    \n",
    "    # Remove the punctuation\n",
    "    text = gensim.parsing.preprocessing.strip_punctuation2(text)\n",
    "    \n",
    "    # Stemming\n",
    "    if (do_stem==True):\n",
    "        text = gensim.parsing.preprocessing.stem_text(text)\n",
    "    \n",
    "    # Lemmatization\n",
    "    if (do_lema==True):\n",
    "        text = do_lemmatization(text)   \n",
    "        \n",
    "    # Strip multiple whitespaces\n",
    "    text = gensim.corpora.textcorpus.strip_multiple_whitespaces(text)\n",
    "    return text"
   ]
  },
  {
   "cell_type": "code",
   "execution_count": 6,
   "metadata": {},
   "outputs": [],
   "source": [
    "## Lemmatization function based on Spacy Library\n",
    "def lemmatizer_spacy(text):        \n",
    "    sent = []\n",
    "    doc = spacy_en(text)\n",
    "    for word in doc:\n",
    "        if word.lemma_ == \"-PRON-\":\n",
    "            sent.append(word.text)\n",
    "        else:\n",
    "            sent.append(word.lemma_)\n",
    "    return \" \".join(sent)\n",
    "\n",
    "def strip_punctuation(s):\n",
    "    return ''.join(c for c in s if c not in punctuation)"
   ]
  },
  {
   "cell_type": "markdown",
   "metadata": {},
   "source": [
    "### Reading SST1 Datasate"
   ]
  },
  {
   "cell_type": "code",
   "execution_count": 12,
   "metadata": {},
   "outputs": [
    {
     "data": {
      "text/html": [
       "<div>\n",
       "<style scoped>\n",
       "    .dataframe tbody tr th:only-of-type {\n",
       "        vertical-align: middle;\n",
       "    }\n",
       "\n",
       "    .dataframe tbody tr th {\n",
       "        vertical-align: top;\n",
       "    }\n",
       "\n",
       "    .dataframe thead th {\n",
       "        text-align: right;\n",
       "    }\n",
       "</style>\n",
       "<table border=\"1\" class=\"dataframe\">\n",
       "  <thead>\n",
       "    <tr style=\"text-align: right;\">\n",
       "      <th></th>\n",
       "      <th>sentence</th>\n",
       "      <th>label</th>\n",
       "      <th>split</th>\n",
       "    </tr>\n",
       "  </thead>\n",
       "  <tbody>\n",
       "    <tr>\n",
       "      <th>72115</th>\n",
       "      <td>the problem with concept films is that if the ...</td>\n",
       "      <td>1</td>\n",
       "      <td>test</td>\n",
       "    </tr>\n",
       "    <tr>\n",
       "      <th>72116</th>\n",
       "      <td>safe conduct , however ambitious and well inte...</td>\n",
       "      <td>1</td>\n",
       "      <td>test</td>\n",
       "    </tr>\n",
       "    <tr>\n",
       "      <th>72117</th>\n",
       "      <td>a film made with as little wit , interest , an...</td>\n",
       "      <td>1</td>\n",
       "      <td>test</td>\n",
       "    </tr>\n",
       "    <tr>\n",
       "      <th>72118</th>\n",
       "      <td>to enjoy this movie 's sharp dialogue and deli...</td>\n",
       "      <td>2</td>\n",
       "      <td>test</td>\n",
       "    </tr>\n",
       "    <tr>\n",
       "      <th>72119</th>\n",
       "      <td>but here 's the real damn it is n't funny , ei...</td>\n",
       "      <td>0</td>\n",
       "      <td>test</td>\n",
       "    </tr>\n",
       "  </tbody>\n",
       "</table>\n",
       "</div>"
      ],
      "text/plain": [
       "                                                sentence label split\n",
       "72115  the problem with concept films is that if the ...     1  test\n",
       "72116  safe conduct , however ambitious and well inte...     1  test\n",
       "72117  a film made with as little wit , interest , an...     1  test\n",
       "72118  to enjoy this movie 's sharp dialogue and deli...     2  test\n",
       "72119  but here 's the real damn it is n't funny , ei...     0  test"
      ]
     },
     "execution_count": 12,
     "metadata": {},
     "output_type": "execute_result"
    }
   ],
   "source": [
    "sst1_dataset = pd.read_pickle('dataset/SST1_capado.pkl')\n",
    "sst1_dataset.tail()"
   ]
  },
  {
   "cell_type": "code",
   "execution_count": 13,
   "metadata": {},
   "outputs": [
    {
     "name": "stdout",
     "output_type": "stream",
     "text": [
      "LABEL 0 - PHRASES 5649\n",
      "LABEL 4 - PHRASES 6622\n",
      "LABEL 2 - PHRASES 24550\n",
      "LABEL 1 - PHRASES 17141\n",
      "LABEL 3 - PHRASES 18158\n"
     ]
    }
   ],
   "source": [
    "## Number of sentences per label\n",
    "for i in list(set(sst1_dataset.label)):\n",
    "    print(\"LABEL {} - PHRASES {}\".format(i,len(sst1_dataset[sst1_dataset.label==i])))"
   ]
  },
  {
   "cell_type": "code",
   "execution_count": 14,
   "metadata": {},
   "outputs": [
    {
     "name": "stderr",
     "output_type": "stream",
     "text": [
      "02/09/2019 19:17:42 - INFO - allennlp.modules.elmo -   Initializing ELMo\n"
     ]
    }
   ],
   "source": [
    "## ELMo\n",
    "elmo_weights_key_path = '../vectors/elmo_2x4096_512_2048cnn_2xhighway_5.5B_weights.hdf5'\n",
    "elmo_config_key_path = '../vectors/elmo_2x4096_512_2048cnn_2xhighway_5.5B_options.json'\n",
    "\n",
    "## S3 Configs for SageMaker\n",
    "#bucket = 'adp-e-ml-notebooks-sagemaker'             \n",
    "#prefix = 'vectors'   \n",
    "#elmo_weights_key = '{}/elmo_2x4096_512_2048cnn_2xhighway_5.5B_weights.hdf5'.format(prefix)\n",
    "#elmo_weights_key_path = os.path.join('s3://', bucket, elmo_weights_key)\n",
    "#elmo_config_key = '{}/elmo_2x4096_512_2048cnn_2xhighway_5.5B_options.json'.format(prefix)\n",
    "#elmo_config_key_path = os.path.join('s3://', bucket, elmo_config_key)\n",
    "\n",
    "### Elmo Instance\n",
    "elmo = Elmo(elmo_config_key_path, \n",
    "            elmo_weights_key_path, \n",
    "            num_output_representations = 1, \n",
    "            dropout=0.3,\n",
    "            requires_grad = False)\n",
    "if torch.cuda.is_available():\n",
    "    elmo = elmo.cuda()"
   ]
  },
  {
   "cell_type": "code",
   "execution_count": 15,
   "metadata": {},
   "outputs": [],
   "source": [
    "def get_elmo(sent):\n",
    "    elmo.eval()\n",
    "    sent = [sent.split()]\n",
    "    character_ids = batch_to_ids(sent)\n",
    "    if torch.cuda.is_available():\n",
    "        character_ids = character_ids.cuda()\n",
    "    embeddings = elmo(character_ids)\n",
    "    rep = embeddings['elmo_representations'][0]\n",
    "    rep = rep.squeeze(dim=0)\n",
    "    avg = rep.mean(dim=0)\n",
    "    avg = avg/torch.norm(avg)\n",
    "    return avg"
   ]
  },
  {
   "cell_type": "code",
   "execution_count": 16,
   "metadata": {},
   "outputs": [
    {
     "data": {
      "text/plain": [
       "tensor(0.0009, device='cuda:0', grad_fn=<MeanBackward0>)"
      ]
     },
     "execution_count": 16,
     "metadata": {},
     "output_type": "execute_result"
    }
   ],
   "source": [
    "get_elmo(\"what is love baby don't hurt me\").mean()"
   ]
  },
  {
   "cell_type": "code",
   "execution_count": 17,
   "metadata": {},
   "outputs": [
    {
     "data": {
      "text/plain": [
       "tensor(-0.0002, device='cuda:0', grad_fn=<MeanBackward0>)"
      ]
     },
     "execution_count": 17,
     "metadata": {},
     "output_type": "execute_result"
    }
   ],
   "source": [
    "get_elmo(\"what is\").mean()"
   ]
  },
  {
   "cell_type": "code",
   "execution_count": 18,
   "metadata": {},
   "outputs": [],
   "source": [
    "sst1_dataset['clean_text']=sst1_dataset['sentence'].apply(lambda x: transformText(x))\n",
    "sst1_dataset['label'] = sst1_dataset['label'].apply(lambda x: int(x))"
   ]
  },
  {
   "cell_type": "code",
   "execution_count": 19,
   "metadata": {},
   "outputs": [
    {
     "data": {
      "text/html": [
       "<div>\n",
       "<style scoped>\n",
       "    .dataframe tbody tr th:only-of-type {\n",
       "        vertical-align: middle;\n",
       "    }\n",
       "\n",
       "    .dataframe tbody tr th {\n",
       "        vertical-align: top;\n",
       "    }\n",
       "\n",
       "    .dataframe thead th {\n",
       "        text-align: right;\n",
       "    }\n",
       "</style>\n",
       "<table border=\"1\" class=\"dataframe\">\n",
       "  <thead>\n",
       "    <tr style=\"text-align: right;\">\n",
       "      <th></th>\n",
       "      <th>sentence</th>\n",
       "      <th>label</th>\n",
       "      <th>split</th>\n",
       "      <th>clean_text</th>\n",
       "    </tr>\n",
       "  </thead>\n",
       "  <tbody>\n",
       "    <tr>\n",
       "      <th>72115</th>\n",
       "      <td>the problem with concept films is that if the ...</td>\n",
       "      <td>1</td>\n",
       "      <td>test</td>\n",
       "      <td>the problem with concept films is that if the ...</td>\n",
       "    </tr>\n",
       "    <tr>\n",
       "      <th>72116</th>\n",
       "      <td>safe conduct , however ambitious and well inte...</td>\n",
       "      <td>1</td>\n",
       "      <td>test</td>\n",
       "      <td>safe conduct however ambitious and well intent...</td>\n",
       "    </tr>\n",
       "    <tr>\n",
       "      <th>72117</th>\n",
       "      <td>a film made with as little wit , interest , an...</td>\n",
       "      <td>1</td>\n",
       "      <td>test</td>\n",
       "      <td>a film made with as little wit interest and pr...</td>\n",
       "    </tr>\n",
       "    <tr>\n",
       "      <th>72118</th>\n",
       "      <td>to enjoy this movie 's sharp dialogue and deli...</td>\n",
       "      <td>2</td>\n",
       "      <td>test</td>\n",
       "      <td>to enjoy this movie s sharp dialogue and delig...</td>\n",
       "    </tr>\n",
       "    <tr>\n",
       "      <th>72119</th>\n",
       "      <td>but here 's the real damn it is n't funny , ei...</td>\n",
       "      <td>0</td>\n",
       "      <td>test</td>\n",
       "      <td>but here s the real damn it is n t funny either</td>\n",
       "    </tr>\n",
       "  </tbody>\n",
       "</table>\n",
       "</div>"
      ],
      "text/plain": [
       "                                                sentence  label split  \\\n",
       "72115  the problem with concept films is that if the ...      1  test   \n",
       "72116  safe conduct , however ambitious and well inte...      1  test   \n",
       "72117  a film made with as little wit , interest , an...      1  test   \n",
       "72118  to enjoy this movie 's sharp dialogue and deli...      2  test   \n",
       "72119  but here 's the real damn it is n't funny , ei...      0  test   \n",
       "\n",
       "                                              clean_text  \n",
       "72115  the problem with concept films is that if the ...  \n",
       "72116  safe conduct however ambitious and well intent...  \n",
       "72117  a film made with as little wit interest and pr...  \n",
       "72118  to enjoy this movie s sharp dialogue and delig...  \n",
       "72119   but here s the real damn it is n t funny either   "
      ]
     },
     "execution_count": 19,
     "metadata": {},
     "output_type": "execute_result"
    }
   ],
   "source": [
    "sst1_dataset.tail()"
   ]
  },
  {
   "cell_type": "code",
   "execution_count": 20,
   "metadata": {},
   "outputs": [],
   "source": [
    "train_dataset = sst1_dataset[sst1_dataset.split == 'train'].reset_index(drop=True)\n",
    "test_dataset = sst1_dataset[sst1_dataset.split == 'test'].reset_index(drop=True)"
   ]
  },
  {
   "cell_type": "code",
   "execution_count": 21,
   "metadata": {},
   "outputs": [
    {
     "data": {
      "text/plain": [
       "(68916, 2140)"
      ]
     },
     "execution_count": 21,
     "metadata": {},
     "output_type": "execute_result"
    }
   ],
   "source": [
    "len(train_dataset), len(test_dataset)"
   ]
  },
  {
   "cell_type": "code",
   "execution_count": 70,
   "metadata": {},
   "outputs": [],
   "source": [
    "## Pre-compute ELMo dataset\n",
    "train_elmos = np.zeros((len(train_dataset), elmo.get_output_dim()))\n",
    "for i in range(len(train_dataset)):\n",
    "    elmo_phrase = get_elmo(train_dataset.loc[i]['clean_text']).detach().cpu().numpy()\n",
    "    train_elmos[i]= elmo_phrase"
   ]
  },
  {
   "cell_type": "code",
   "execution_count": 71,
   "metadata": {},
   "outputs": [
    {
     "data": {
      "text/plain": [
       "(68916, 1024)"
      ]
     },
     "execution_count": 71,
     "metadata": {},
     "output_type": "execute_result"
    }
   ],
   "source": [
    "train_elmos.shape"
   ]
  },
  {
   "cell_type": "code",
   "execution_count": 83,
   "metadata": {},
   "outputs": [
    {
     "data": {
      "text/plain": [
       "(68916,)"
      ]
     },
     "execution_count": 83,
     "metadata": {},
     "output_type": "execute_result"
    }
   ],
   "source": [
    "train_labels = np.array(train_dataset.label)\n",
    "train_labels.shape"
   ]
  },
  {
   "cell_type": "code",
   "execution_count": 85,
   "metadata": {},
   "outputs": [],
   "source": [
    "with open(\"dataset/train_elmos\",\"wb\") as f:\n",
    "    pickle.dump((train_elmos,train_labels),f, protocol = pickle.HIGHEST_PROTOCOL)"
   ]
  },
  {
   "cell_type": "code",
   "execution_count": 88,
   "metadata": {},
   "outputs": [],
   "source": [
    "#with open(\"dataset/train_elmos\",\"rb\") as f:\n",
    "#    tr, lb = pickle.load(f)"
   ]
  },
  {
   "cell_type": "code",
   "execution_count": 92,
   "metadata": {},
   "outputs": [],
   "source": [
    "#tr.shape, lb.shape"
   ]
  },
  {
   "cell_type": "code",
   "execution_count": 77,
   "metadata": {},
   "outputs": [],
   "source": [
    "test_elmos = np.zeros((len(test_dataset), elmo.get_output_dim()))\n",
    "for i in range(len(test_dataset)):\n",
    "    elmo_phrase = get_elmo(test_dataset.loc[i]['clean_text']).detach().cpu().numpy()\n",
    "    test_elmos[i]= elmo_phrase"
   ]
  },
  {
   "cell_type": "code",
   "execution_count": 78,
   "metadata": {},
   "outputs": [
    {
     "data": {
      "text/plain": [
       "(2140, 1024)"
      ]
     },
     "execution_count": 78,
     "metadata": {},
     "output_type": "execute_result"
    }
   ],
   "source": [
    "test_elmos.shape"
   ]
  },
  {
   "cell_type": "code",
   "execution_count": 94,
   "metadata": {},
   "outputs": [
    {
     "data": {
      "text/plain": [
       "(2140,)"
      ]
     },
     "execution_count": 94,
     "metadata": {},
     "output_type": "execute_result"
    }
   ],
   "source": [
    "test_labels = np.array(test_dataset.label)\n",
    "test_labels.shape"
   ]
  },
  {
   "cell_type": "code",
   "execution_count": 95,
   "metadata": {},
   "outputs": [],
   "source": [
    "with open(\"dataset/test_elmos\",\"wb\") as f:\n",
    "    pickle.dump((test_elmos,test_labels),f, protocol = pickle.HIGHEST_PROTOCOL)"
   ]
  },
  {
   "cell_type": "code",
   "execution_count": 99,
   "metadata": {},
   "outputs": [],
   "source": [
    "#with open(\"dataset/test_elmos\",\"rb\") as f:\n",
    "#    tr, lb = pickle.load(f)"
   ]
  },
  {
   "cell_type": "code",
   "execution_count": 100,
   "metadata": {},
   "outputs": [],
   "source": [
    "#tr.shape, lb.shape"
   ]
  },
  {
   "cell_type": "code",
   "execution_count": 102,
   "metadata": {},
   "outputs": [
    {
     "name": "stdout",
     "output_type": "stream",
     "text": [
      "total 1.2G\r\n",
      "drwxrwxr-x 3 roberto roberto 4.0K Feb  9 01:33 .\r\n",
      "drwxrwxr-x 5 roberto roberto 4.0K Feb  9 01:33 ..\r\n",
      "drwxrwxr-x 9 roberto roberto 4.0K Feb  5 21:24 2017-06-custom-intent-engines\r\n",
      "-rw-rw-r-- 1 roberto roberto 5.4K Feb  5 21:24 intents_test_roberto.pkl\r\n",
      "-rw-rw-r-- 1 roberto roberto 133K Feb  5 21:24 intents_train_roberto.csv\r\n",
      "-rw-rw-r-- 1 roberto roberto 564M Feb  8 23:58 pre_computed_dataset\r\n",
      "-rw-rw-r-- 1 roberto roberto 238K Feb  5 21:24 snips_dataset.csv\r\n",
      "-rw-rw-r-- 1 roberto roberto  86K Feb  5 22:22 snips_sliced_test.pkl\r\n",
      "-rw-rw-r-- 1 roberto roberto  43K Feb  5 22:21 snips_sliced_train.pkl\r\n",
      "-rw-rw-r-- 1 roberto roberto 6.1M Feb  7 23:30 SST1_capado.csv\r\n",
      "-rw-rw-r-- 1 roberto roberto 6.4M Feb  6 19:58 SST1_capado.pkl\r\n",
      "-rw-rw-r-- 1 roberto roberto 8.4M Feb  6 19:58 SST1.pkl\r\n",
      "-rw-rw-r-- 1 roberto roberto 4.3M Feb  7 23:31 SST2_capado.csv\r\n",
      "-rw-rw-r-- 1 roberto roberto 4.5M Feb  6 19:58 SST2_capado.pkl\r\n",
      "-rw-rw-r-- 1 roberto roberto 5.1M Feb  6 19:58 SST2.pkl\r\n",
      "-rw-rw-r-- 1 roberto roberto  17M Feb  9 01:33 test_elmos\r\n",
      "-rw-rw-r-- 1 roberto roberto 539M Feb  9 01:30 train_elmos\r\n"
     ]
    }
   ],
   "source": [
    "!ls -lah dataset/"
   ]
  },
  {
   "cell_type": "code",
   "execution_count": 103,
   "metadata": {},
   "outputs": [],
   "source": [
    "!mv dataset/test_elmos dataset/test_elmos.pkl"
   ]
  },
  {
   "cell_type": "code",
   "execution_count": 105,
   "metadata": {},
   "outputs": [],
   "source": [
    "!mv dataset/train_elmos dataset/train_elmos.pkl"
   ]
  },
  {
   "cell_type": "code",
   "execution_count": 107,
   "metadata": {},
   "outputs": [],
   "source": [
    "#!ls -lah dataset/"
   ]
  },
  {
   "cell_type": "markdown",
   "metadata": {},
   "source": [
    "## Train/Test Split"
   ]
  },
  {
   "cell_type": "code",
   "execution_count": 23,
   "metadata": {},
   "outputs": [],
   "source": [
    "from sklearn.model_selection import train_test_split"
   ]
  },
  {
   "cell_type": "code",
   "execution_count": 109,
   "metadata": {},
   "outputs": [],
   "source": [
    "x_train, x_valid, y_train, y_valid = train_test_split(train_elmos, train_labels, test_size=0.20, random_state=42)"
   ]
  },
  {
   "cell_type": "code",
   "execution_count": 110,
   "metadata": {},
   "outputs": [
    {
     "data": {
      "text/plain": [
       "((55132, 1024), (55132,))"
      ]
     },
     "execution_count": 110,
     "metadata": {},
     "output_type": "execute_result"
    }
   ],
   "source": [
    "x_train.shape, y_train.shape"
   ]
  },
  {
   "cell_type": "code",
   "execution_count": 22,
   "metadata": {},
   "outputs": [],
   "source": [
    "## Pruning dataset to have few instances per class for augmentation evaluation\n",
    "pruned_num_phrases = 1000\n",
    "train_pruned = pd.DataFrame(columns = ['sentence', 'label','split'])\n",
    "valid_pruned = pd.DataFrame(columns = ['sentence', 'label','split'])"
   ]
  },
  {
   "cell_type": "code",
   "execution_count": 25,
   "metadata": {},
   "outputs": [
    {
     "name": "stdout",
     "output_type": "stream",
     "text": [
      "LABEL 0 ---------------------\n",
      "# train 1000, # valid 4240\n",
      "LABEL 1 ---------------------\n",
      "# train 1000, # valid 15248\n",
      "LABEL 2 ---------------------\n",
      "# train 1000, # valid 22973\n",
      "LABEL 3 ---------------------\n",
      "# train 1000, # valid 16383\n",
      "LABEL 4 ---------------------\n",
      "# train 1000, # valid 5072\n"
     ]
    },
    {
     "name": "stderr",
     "output_type": "stream",
     "text": [
      "/home/roberto/.virtualenvs/pytorch/lib/python3.6/site-packages/ipykernel_launcher.py:6: FutureWarning: Sorting because non-concatenation axis is not aligned. A future version\n",
      "of pandas will change to not sort by default.\n",
      "\n",
      "To accept the future behavior, pass 'sort=False'.\n",
      "\n",
      "To retain the current behavior and silence the warning, pass 'sort=True'.\n",
      "\n",
      "  \n",
      "/home/roberto/.virtualenvs/pytorch/lib/python3.6/site-packages/ipykernel_launcher.py:7: FutureWarning: Sorting because non-concatenation axis is not aligned. A future version\n",
      "of pandas will change to not sort by default.\n",
      "\n",
      "To accept the future behavior, pass 'sort=False'.\n",
      "\n",
      "To retain the current behavior and silence the warning, pass 'sort=True'.\n",
      "\n",
      "  import sys\n"
     ]
    }
   ],
   "source": [
    "for i in list(set(train_dataset.label)):\n",
    "    print(\"LABEL {} ---------------------\".format(i))\n",
    "    train_ = train_dataset[train_dataset.label==i][0:pruned_num_phrases]\n",
    "    valid_ = train_dataset[train_dataset.label==i][pruned_num_phrases:]\n",
    "    print(\"# train {}, # valid {}\".format(len(train_), len(valid_)))\n",
    "    train_pruned = pd.concat([train_pruned,train_]).reset_index(drop=True)\n",
    "    valid_pruned = pd.concat([valid_pruned,valid_]).reset_index(drop=True)"
   ]
  },
  {
   "cell_type": "code",
   "execution_count": 26,
   "metadata": {},
   "outputs": [],
   "source": [
    "# Clean Dataset (only stopword removal, punct, ascii - no lemma, stemm)\n",
    "train_pruned['clean_text']=train_pruned['sentence'].apply(lambda x: transformText(x))\n",
    "valid_pruned['clean_text']=valid_pruned['sentence'].apply(lambda x: transformText(x))\n",
    "test_dataset['clean_text']=valid_pruned['sentence'].apply(lambda x: transformText(x))"
   ]
  },
  {
   "cell_type": "code",
   "execution_count": 114,
   "metadata": {},
   "outputs": [],
   "source": [
    "class IntentsPrecomp(Dataset):\n",
    "    def __init__(self, X, Y):\n",
    "        self.len = len(X)\n",
    "        self.data = X\n",
    "        self.label = Y\n",
    "        \n",
    "    def __getitem__(self, index):\n",
    "        X = torch.tensor(self.data[index], dtype=torch.float32)\n",
    "        y = torch.tensor(self.label[index], dtype=torch.int64)\n",
    "        return X, y\n",
    "    \n",
    "    def __len__(self):\n",
    "        return self.len"
   ]
  },
  {
   "cell_type": "code",
   "execution_count": 115,
   "metadata": {},
   "outputs": [
    {
     "data": {
      "text/plain": [
       "(55132, 55132)"
      ]
     },
     "execution_count": 115,
     "metadata": {},
     "output_type": "execute_result"
    }
   ],
   "source": [
    "len(x_train), len(y_train)"
   ]
  },
  {
   "cell_type": "code",
   "execution_count": 116,
   "metadata": {},
   "outputs": [],
   "source": [
    "training_set = IntentsPrecomp(x_train, y_train)\n",
    "validing_set = IntentsPrecomp(x_valid, y_valid)"
   ]
  },
  {
   "cell_type": "code",
   "execution_count": 117,
   "metadata": {},
   "outputs": [
    {
     "data": {
      "text/plain": [
       "((tensor([-0.0111,  0.0017,  0.0153,  ...,  0.0377,  0.0142, -0.0148]),\n",
       "  tensor(3)),\n",
       " (tensor([-0.0111,  0.0017,  0.0153,  ...,  0.0377,  0.0142, -0.0148]),\n",
       "  tensor(3)))"
      ]
     },
     "execution_count": 117,
     "metadata": {},
     "output_type": "execute_result"
    }
   ],
   "source": [
    "training_set.__getitem__(0), training_set.__getitem__(0)"
   ]
  },
  {
   "cell_type": "code",
   "execution_count": 118,
   "metadata": {},
   "outputs": [],
   "source": [
    "#class Intents(Dataset):\n",
    "#    def __init__(self, dataframe):\n",
    "#        self.len = len(dataframe)\n",
    "#        self.data = dataframe\n",
    "#        \n",
    "#    def __getitem__(self, index):\n",
    "#        phrase = self.data.clean_text[index]\n",
    "#        X = get_elmo(phrase)\n",
    "#        y = self.data.label[index]\n",
    "#        return X, y\n",
    "#    \n",
    "#    def __len__(self):\n",
    "#        return self.len"
   ]
  },
  {
   "cell_type": "code",
   "execution_count": 119,
   "metadata": {},
   "outputs": [],
   "source": [
    "#training_set = Intents(train_pruned)\n",
    "#validing_set = Intents(valid_pruned)"
   ]
  },
  {
   "cell_type": "code",
   "execution_count": 120,
   "metadata": {},
   "outputs": [],
   "source": [
    "#training_set.__len__(), validing_set.__len__()"
   ]
  },
  {
   "cell_type": "code",
   "execution_count": 121,
   "metadata": {},
   "outputs": [],
   "source": [
    "#training_set.__getitem__(1)"
   ]
  },
  {
   "cell_type": "code",
   "execution_count": 122,
   "metadata": {},
   "outputs": [],
   "source": [
    "#validing_set.__getitem__(400)"
   ]
  },
  {
   "cell_type": "markdown",
   "metadata": {},
   "source": [
    "## Simple MLP Classifier"
   ]
  },
  {
   "cell_type": "code",
   "execution_count": 123,
   "metadata": {},
   "outputs": [],
   "source": [
    "class SimpleMLP(nn.Module):\n",
    "    def __init__(self, inputdim, \n",
    "                        nclasses, \n",
    "                        nhidden, \n",
    "                        dropout = 0):\n",
    "        super(SimpleMLP, self).__init__()\n",
    "        \"\"\"\n",
    "        PARAMETERS:\n",
    "        -dropout:    dropout for MLP\n",
    "        \"\"\"\n",
    "        \n",
    "        self.inputdim = inputdim\n",
    "        self.hidden_dim = nhidden\n",
    "        self.dropout = dropout\n",
    "        self.nclasses = nclasses\n",
    "        self.model = nn.Sequential(\n",
    "            nn.Linear(self.inputdim, nhidden),\n",
    "            nn.Dropout(p=self.dropout),\n",
    "            nn.ReLU(),\n",
    "            nn.Linear(nhidden, self.nclasses),\n",
    "            )\n",
    "        if torch.cuda.is_available():\n",
    "            self.model = self.model.cuda()\n",
    "    def forward(self, x):\n",
    "        log_probs = self.model(x)\n",
    "        return log_probs"
   ]
  },
  {
   "cell_type": "code",
   "execution_count": 178,
   "metadata": {},
   "outputs": [],
   "source": [
    "INP_DIM = elmo.get_output_dim()\n",
    "NUM_LABELS = len(set(labels))\n",
    "NHIDDEN = 2048\n",
    "DROPOUT = 0"
   ]
  },
  {
   "cell_type": "code",
   "execution_count": 179,
   "metadata": {},
   "outputs": [],
   "source": [
    "model = SimpleMLP(inputdim = INP_DIM ,\n",
    "              nhidden = NHIDDEN,\n",
    "              nclasses = NUM_LABELS,\n",
    "              dropout = DROPOUT)\n",
    "\n",
    "if torch.cuda.is_available():\n",
    "    device = torch.device(\"cuda:0\")\n",
    "    model = model.to(device)\n",
    "    model.cuda()"
   ]
  },
  {
   "cell_type": "code",
   "execution_count": 180,
   "metadata": {},
   "outputs": [
    {
     "data": {
      "text/plain": [
       "tensor([ 0.0171, -0.0146,  0.0098,  0.0091,  0.0103], device='cuda:0',\n",
       "       grad_fn=<AddBackward0>)"
      ]
     },
     "execution_count": 180,
     "metadata": {},
     "output_type": "execute_result"
    }
   ],
   "source": [
    "samp = training_set.__getitem__(0)[0].cuda()\n",
    "model.forward(samp)"
   ]
  },
  {
   "cell_type": "markdown",
   "metadata": {},
   "source": [
    "## Training"
   ]
  },
  {
   "cell_type": "code",
   "execution_count": 181,
   "metadata": {},
   "outputs": [],
   "source": [
    "# Dataloaders Parameters\n",
    "params = {'batch_size': 64,\n",
    "          'shuffle': True,\n",
    "          'num_workers': 0}\n",
    "max_epochs = 30\n",
    "\n",
    "train_loader = DataLoader(training_set, **params)\n",
    "valid_loader = DataLoader(validing_set, **params)\n",
    "# Hyperparams\n",
    "loss_function = nn.CrossEntropyLoss()\n",
    "learning_rate = 0.0001 \n",
    "optimizer = optim.Adam(params =  model.parameters(), lr=learning_rate)"
   ]
  },
  {
   "cell_type": "code",
   "execution_count": 183,
   "metadata": {},
   "outputs": [
    {
     "name": "stdout",
     "output_type": "stream",
     "text": [
      "EPOCH -- 0\n",
      "LOSS: 0.8674242496490479. VALID ACCURACY: 58.13987231572838%\n",
      "EPOCH -- 1\n",
      "LOSS: 0.9393641948699951. VALID ACCURACY: 58.35026117237377%\n",
      "EPOCH -- 2\n",
      "LOSS: 0.7289527058601379. VALID ACCURACY: 58.06006964596634%\n",
      "EPOCH -- 3\n",
      "LOSS: 0.8033251762390137. VALID ACCURACY: 58.248694138131164%\n",
      "EPOCH -- 4\n",
      "LOSS: 0.7279648184776306. VALID ACCURACY: 58.32124201973302%\n",
      "EPOCH -- 5\n",
      "LOSS: 0.8410013318061829. VALID ACCURACY: 58.45182820661637%\n",
      "EPOCH -- 6\n",
      "LOSS: 0.6902561187744141. VALID ACCURACY: 58.30673244341265%\n",
      "EPOCH -- 7\n",
      "LOSS: 0.590100109577179. VALID ACCURACY: 58.29947765525247%\n",
      "EPOCH -- 8\n",
      "LOSS: 0.6186671257019043. VALID ACCURACY: 58.19065583284968%\n",
      "EPOCH -- 9\n",
      "LOSS: 0.6990066766738892. VALID ACCURACY: 58.37928032501451%\n",
      "EPOCH -- 10\n",
      "LOSS: 0.7731107473373413. VALID ACCURACY: 58.858096343586766%\n",
      "EPOCH -- 11\n",
      "LOSS: 0.6149803400039673. VALID ACCURACY: 59.00319210679048%\n",
      "EPOCH -- 12\n",
      "LOSS: 0.5969610214233398. VALID ACCURACY: 58.57515960533952%\n",
      "EPOCH -- 13\n",
      "LOSS: 0.6161081790924072. VALID ACCURACY: 58.65496227510157%\n",
      "EPOCH -- 14\n",
      "LOSS: 0.6216205954551697. VALID ACCURACY: 58.640452698781196%\n",
      "EPOCH -- 15\n",
      "LOSS: 0.48675966262817383. VALID ACCURACY: 58.21967498549042%\n",
      "EPOCH -- 16\n",
      "LOSS: 0.575780987739563. VALID ACCURACY: 58.56790481717934%\n",
      "EPOCH -- 17\n",
      "LOSS: 0.6082643866539001. VALID ACCURACY: 58.78554846198491%\n",
      "EPOCH -- 18\n",
      "LOSS: 0.6431756615638733. VALID ACCURACY: 58.625943122460825%\n",
      "EPOCH -- 19\n",
      "LOSS: 0.6295583248138428. VALID ACCURACY: 58.7928032501451%\n",
      "EPOCH -- 20\n",
      "LOSS: 0.5730117559432983. VALID ACCURACY: 58.63319791062101%\n",
      "EPOCH -- 21\n",
      "LOSS: 0.5889436602592468. VALID ACCURACY: 58.58241439349971%\n",
      "EPOCH -- 22\n",
      "LOSS: 0.5442089438438416. VALID ACCURACY: 58.57515960533952%\n",
      "EPOCH -- 23\n",
      "LOSS: 0.6794805526733398. VALID ACCURACY: 58.90162507254788%\n",
      "EPOCH -- 24\n",
      "LOSS: 0.44501617550849915. VALID ACCURACY: 58.87260591990714%\n",
      "EPOCH -- 25\n",
      "LOSS: 0.4944569766521454. VALID ACCURACY: 58.858096343586766%\n",
      "EPOCH -- 26\n",
      "LOSS: 0.5454431772232056. VALID ACCURACY: 59.03946604759141%\n",
      "EPOCH -- 27\n",
      "LOSS: 0.4878145754337311. VALID ACCURACY: 58.82907719094602%\n",
      "EPOCH -- 28\n",
      "LOSS: 0.46058064699172974. VALID ACCURACY: 58.524376088218226%\n",
      "EPOCH -- 29\n",
      "LOSS: 0.6832008957862854. VALID ACCURACY: 58.879860708067326%\n"
     ]
    }
   ],
   "source": [
    "for epoch in range(max_epochs):\n",
    "    print(\"EPOCH -- {}\".format(epoch))\n",
    "    for i, (sent, label) in enumerate(train_loader):\n",
    "        optimizer.zero_grad() \n",
    "        if torch.cuda.is_available():\n",
    "            sent = sent.cuda()\n",
    "            label = label.cuda()\n",
    "        output = model.forward(sent)\n",
    "        loss = loss_function(output, label)\n",
    "        loss.backward()\n",
    "        optimizer.step()\n",
    "        if i%1000 == 0:      \n",
    "            correct = 0\n",
    "            total = 0\n",
    "            for sent, label in valid_loader:      \n",
    "                if torch.cuda.is_available():\n",
    "                    sent = sent.cuda()\n",
    "                    label = label.cuda()\n",
    "                output = model.forward(sent)\n",
    "                _, predicted = torch.max(output.data, 1)\n",
    "                total += label.size(0)\n",
    "                correct += (predicted.cpu() == label.cpu()).sum()\n",
    "            accuracy = 100.00 * correct.numpy() / total\n",
    "            print('LOSS: {}. VALID ACCURACY: {}%'.format(loss.data, accuracy))"
   ]
  },
  {
   "cell_type": "code",
   "execution_count": 184,
   "metadata": {},
   "outputs": [],
   "source": [
    "#def get_reply(phrase, model):\n",
    "#    x = get_elmo(phrase)\n",
    "#    logits_out = model.forward(x)\n",
    "#    softmax_out = F.softmax(logits_out, dim=0).cpu()\n",
    "#    _, pred_label = torch.max(softmax_out.data, 0)\n",
    "#    return int(pred_label.cpu().numpy())"
   ]
  },
  {
   "cell_type": "code",
   "execution_count": 185,
   "metadata": {},
   "outputs": [],
   "source": [
    "#get_reply(\"testing\", model)"
   ]
  },
  {
   "cell_type": "code",
   "execution_count": 186,
   "metadata": {},
   "outputs": [],
   "source": [
    "#get_reply(\"what is love\", model)"
   ]
  },
  {
   "cell_type": "markdown",
   "metadata": {},
   "source": [
    "## Checking test error"
   ]
  },
  {
   "cell_type": "code",
   "execution_count": 187,
   "metadata": {},
   "outputs": [
    {
     "name": "stdout",
     "output_type": "stream",
     "text": [
      "TEST ACCURACY  -- 44.06542056074766\n"
     ]
    }
   ],
   "source": [
    "correct = 0\n",
    "total = 0\n",
    "for i, utt in enumerate(test_elmos):\n",
    "    X = torch.tensor(utt, dtype=torch.float32).cuda()\n",
    "    y = torch.tensor(test_labels[i], dtype=torch.int64)\n",
    "    logits_out = model(X)\n",
    "    softmax_out = F.softmax(logits_out, dim=0).cpu()\n",
    "    _, pred_label = torch.max(softmax_out.data, 0)\n",
    "    total +=1\n",
    "    if pred_label == y:\n",
    "        correct += 1\n",
    "test_accuracy = 100.00 * correct / total\n",
    "print(\"TEST ACCURACY  -- {}\".format(test_accuracy))"
   ]
  },
  {
   "cell_type": "code",
   "execution_count": 177,
   "metadata": {},
   "outputs": [],
   "source": [
    "#correct = 0\n",
    "#total = 0\n",
    "#errors = []\n",
    "#for i in range(len(test_dataset)):\n",
    "#    msg = str(test_dataset['clean_text'][i])\n",
    "#    lbl = test_dataset['label'][i]\n",
    "#    prediction = get_reply(msg, model)\n",
    "#    #print(prediction)\n",
    "#    total +=1\n",
    "#    if prediction == lbl:\n",
    "#        correct += 1\n",
    "#    else:\n",
    "#        errors.append((msg ,lbl))\n",
    "#test_accuracy = 100.00 * correct / total\n",
    "#print(\"TEST ACCURACY  -- {}\".format(test_accuracy))"
   ]
  },
  {
   "cell_type": "markdown",
   "metadata": {},
   "source": [
    "## Implementing Augmentation Class"
   ]
  },
  {
   "cell_type": "code",
   "execution_count": 6,
   "metadata": {},
   "outputs": [],
   "source": [
    "%matplotlib inline\n",
    "from torch.nn.functional import interpolate\n",
    "from sklearn.manifold import TSNE\n",
    "import matplotlib.pyplot as plt"
   ]
  },
  {
   "cell_type": "code",
   "execution_count": 29,
   "metadata": {},
   "outputs": [],
   "source": [
    "def get_linear_interpolation(label, num_interp_samples, return_all_points=False):\n",
    "    sentences= list(train_pruned.clean_text[train_dataset.label == label])\n",
    "    points = np.zeros((elmo.get_output_dim(),len(sentences)))    \n",
    "    \n",
    "    for i,utt in enumerate(sentences):\n",
    "        points[:,i] = get_elmo(utt).detach().cpu().clone().numpy()\n",
    "    point = torch.tensor(points)\n",
    "    x = point.unsqueeze(dim=0) \n",
    "    print(x.shape)\n",
    "    \n",
    "    ## Random selector for which interpolated phrase to pick\n",
    "    rand_phrase = np.random.randint(num_interp_samples, size = 1)\n",
    "    \n",
    "    ## Interpolate phrases\n",
    "    interp = interpolate(x, size=(num_interp_samples), mode='linear', align_corners=True).squeeze(0).numpy().T\n",
    "    \n",
    "    if return_all_points == False:\n",
    "        interp =interp[rand_phrase].squeeze(0)      ## Pick Randomly 1 point sample\n",
    "    return interp"
   ]
  },
  {
   "cell_type": "code",
   "execution_count": 30,
   "metadata": {},
   "outputs": [
    {
     "name": "stdout",
     "output_type": "stream",
     "text": [
      "torch.Size([1, 1024, 415])\n"
     ]
    },
    {
     "data": {
      "text/plain": [
       "(1024,)"
      ]
     },
     "execution_count": 30,
     "metadata": {},
     "output_type": "execute_result"
    }
   ],
   "source": [
    "get_linear_interpolation(1 , num_interp_samples = 20).shape"
   ]
  },
  {
   "cell_type": "code",
   "execution_count": null,
   "metadata": {},
   "outputs": [],
   "source": [
    "get_linear_interpolation(2, num_interp_samples = 20, return_all_points=True).shape"
   ]
  },
  {
   "cell_type": "code",
   "execution_count": null,
   "metadata": {},
   "outputs": [],
   "source": [
    "def plot_manifold(intents, num_interp_samples, perplexity = 3):\n",
    "    \n",
    "    list_intents = {}\n",
    "    for name in intents:\n",
    "        phrases = list(train_pruned.clean_text[train_pruned.label == name])\n",
    "        list_intents.update({name:phrases})\n",
    "    \n",
    "    ## List all sentences\n",
    "    sentences = [item for sublist in list(list_intents.values()) for item in sublist]\n",
    "    embeddings_np = np.zeros((len(sentences), elmo.get_output_dim()))\n",
    "    for i,sent in enumerate(sentences):\n",
    "        embeddings_np[i]= get_elmo(sent).detach().cpu().numpy()\n",
    "    initial_sent_size = len(sentences)\n",
    "    \n",
    "    ## Get syntetic phrases\n",
    "    for name in list_intents:\n",
    "        interp = get_linear_interpolation(name, num_interp_samples, return_all_points=True)\n",
    "        embeddings_np = np.vstack((embeddings_np,interp))\n",
    "        syntetic_label = \"--- interp_{} ---\".format(name)\n",
    "        ## initial sizes\n",
    "        for i in range(num_interp_samples):\n",
    "            sentences.append(syntetic_label)\n",
    "\n",
    "    ## Do TSNE and plot\n",
    "    tsne=TSNE(n_components=2,perplexity = perplexity, method ='exact',verbose=1)\n",
    "    sentences_tsne = tsne.fit_transform(embeddings_np)\n",
    "    plt.subplots(figsize=(30, 15))\n",
    "    plt.grid()\n",
    "    \n",
    "    ## Grouping points by indexes\n",
    "    points = (sentences_tsne[:initial_sent_size,0], sentences_tsne[:initial_sent_size,1])\n",
    "    syntetic_points = (sentences_tsne[initial_sent_size:,0], sentences_tsne[initial_sent_size:,1])\n",
    "    \n",
    "    ## Ploting points\n",
    "    plt.scatter(points[0], points[1], c='r', marker='o')\n",
    "    plt.scatter(syntetic_points[0], syntetic_points[1], c='b', marker='x')\n",
    "\n",
    "    ## Adding labels\n",
    "    for label, x, y in zip(sentences[0:initial_sent_size], points[0], points[1]):\n",
    "        font = {'size' : 10, 'weight' : 'normal'}\n",
    "        plt.rc('font', **font)\n",
    "        plt.annotate(label, xy=(x, y), xytext=(0, 0), textcoords='offset points')\n",
    "\n",
    "    for label, x, y in zip(sentences[initial_sent_size:], syntetic_points[0], syntetic_points[1]):\n",
    "        font = {'size' : 18, 'weight' : 'bold'}\n",
    "        plt.rc('font', **font)\n",
    "        plt.annotate(label, xy=(x, y), xytext=(0, 0), textcoords='offset points')\n",
    "\n"
   ]
  },
  {
   "cell_type": "code",
   "execution_count": null,
   "metadata": {},
   "outputs": [],
   "source": [
    "plot_manifold([1,2,3], 3, perplexity = 3)"
   ]
  },
  {
   "cell_type": "code",
   "execution_count": null,
   "metadata": {},
   "outputs": [],
   "source": [
    "class AugmentedIntents(Dataset):\n",
    "    def __init__(self, dataframe, alpha, num_samples = 20, augmentation = True):\n",
    "        self.len = len(dataframe)\n",
    "        self.data = dataframe\n",
    "        self.augmentation = augmentation\n",
    "        self.num_samples = num_samples\n",
    "        self.alpha = alpha                          ## probabilty to get a real phrase vs interpolated phrase\n",
    "        \n",
    "    def __getitem__(self, index):\n",
    "        phrase = self.data.clean_text[index]\n",
    "        y = self.data.label[index]\n",
    "        if self.augmentation:\n",
    "            proba = np.random.binomial(1, self.alpha )\n",
    "            if proba == 1:\n",
    "                #print(\"frase normal\")\n",
    "                X = get_elmo(phrase)\n",
    "            elif proba == 0:\n",
    "                #print(\"frase interpolada\")\n",
    "                X = torch.tensor(get_linear_interpolation(y, num_interp_samples = self.num_samples), dtype=torch.float32)\n",
    "                if torch.cuda.is_available():\n",
    "                    X = X.cuda()\n",
    "        else:\n",
    "            X = get_elmo(phrase)\n",
    "        return X, y\n",
    "    \n",
    "    def __len__(self):\n",
    "        return self.len"
   ]
  },
  {
   "cell_type": "code",
   "execution_count": null,
   "metadata": {},
   "outputs": [],
   "source": [
    "alpha = 0.5\n",
    "num_samples = 5\n",
    "training_set = AugmentedIntents(train_pruned, alpha, num_samples, augmentation = True)\n",
    "validing_set = AugmentedIntents(valid_pruned,  alpha, num_samples, augmentation = False)"
   ]
  },
  {
   "cell_type": "code",
   "execution_count": null,
   "metadata": {},
   "outputs": [],
   "source": [
    "n = training_set.__getitem__(1)"
   ]
  },
  {
   "cell_type": "code",
   "execution_count": null,
   "metadata": {},
   "outputs": [],
   "source": [
    "n[0].shape"
   ]
  },
  {
   "cell_type": "code",
   "execution_count": null,
   "metadata": {},
   "outputs": [],
   "source": [
    "model_2 = SimpleMLP(inputdim = INP_DIM ,\n",
    "              nhidden = NHIDDEN,\n",
    "              nclasses = NUM_LABELS,\n",
    "              dropout = DROPOUT)\n",
    "\n",
    "if torch.cuda.is_available():\n",
    "    device = torch.device(\"cuda:0\")\n",
    "    model_2 = model_2.to(device)\n",
    "    model_2.cuda()"
   ]
  },
  {
   "cell_type": "code",
   "execution_count": null,
   "metadata": {},
   "outputs": [],
   "source": [
    "train_loader = DataLoader(training_set, **params)\n",
    "valid_loader = DataLoader(validing_set, **params)\n",
    "# Hyperparams\n",
    "loss_function = nn.CrossEntropyLoss()\n",
    "learning_rate = 0.001 \n",
    "optimizer = optim.Adam(params =  model_2.parameters(), lr=learning_rate)"
   ]
  },
  {
   "cell_type": "code",
   "execution_count": null,
   "metadata": {},
   "outputs": [],
   "source": [
    "for epoch in range(max_epochs):\n",
    "    print(\"EPOCH -- {}\".format(epoch))\n",
    "    for i, (sent, label) in enumerate(train_loader):        \n",
    "        optimizer.zero_grad()\n",
    "        if torch.cuda.is_available():\n",
    "            sent = sent.cuda()\n",
    "            label = label.cuda()\n",
    "        output = model_2.forward(sent)\n",
    "        loss = loss_function(output, label)\n",
    "        loss.backward()\n",
    "        optimizer.step()\n",
    "        if i%100 == 0:\n",
    "            correct = 0\n",
    "            total = 0\n",
    "            for sent, label in valid_loader:\n",
    "                if torch.cuda.is_available():\n",
    "                    sent = sent.cuda()\n",
    "                    label = label.cuda()\n",
    "                output = model_2.forward(sent)\n",
    "                _, predicted = torch.max(output.data, 1)\n",
    "                total += label.size(0)\n",
    "                correct += (predicted.cpu() == label.cpu()).sum()\n",
    "            accuracy = 100.00 * correct.numpy() / total\n",
    "            print('LOSS: {}. VALID ACCURACY: {}%'.format(loss.data, accuracy))"
   ]
  },
  {
   "cell_type": "code",
   "execution_count": null,
   "metadata": {},
   "outputs": [],
   "source": [
    "test_dataset"
   ]
  },
  {
   "cell_type": "code",
   "execution_count": null,
   "metadata": {},
   "outputs": [],
   "source": [
    "correct = 0\n",
    "total = 0\n",
    "errors = []\n",
    "for i in range(len(test_dataset)):\n",
    "    msg = str(test_dataset['clean_text'][i])\n",
    "    lbl = test_dataset['label'][i]\n",
    "    prediction = get_reply(msg, model_2)\n",
    "    #print(prediction)\n",
    "    total +=1\n",
    "    if prediction == lbl:\n",
    "        correct += 1\n",
    "    else:\n",
    "        errors.append((msg ,lbl))\n",
    "test_accuracy = 100.00 * correct / total\n",
    "print(\"TEST ACCURACY  -- {}\".format(test_accuracy))"
   ]
  },
  {
   "cell_type": "markdown",
   "metadata": {},
   "source": [
    "### Results\n",
    "\n",
    "- Linear\n",
    "\n",
    "| Alpha (Real/Sintetic) | Num Samples Interpolated | Valid Accuracy % | Test Accuracy % | Epochs | Mini-Batch Size |\n",
    "| --- | --- | --- | --- | -- | -- | \n",
    "| <font color='red'> 1 (no augmentation) </font> |  -  | <font color='red'> -  </font>| <font color='red'> -  </font> |  30  | 32 |\n",
    "| 0.5 | 5  | - | - |  30  | 32 |\n",
    "| 0.5 | 10 | - | - |  30  | 32 |\n",
    "| 0.5 | 30 | - | - |  30  | 32 |\n",
    "| 0.5 | 50 | - | - | 30    | 32 |\n",
    "| 0.7 | 5  | - | - | 30    | 32  |\n",
    "| 0.7 | 10 | - | - | 30    | 32  |\n",
    "| 0.7 | 30 | - | - | 30    | 32  |\n",
    "| 0.7 | 50 | - | - | 30    | 32  |\n",
    "| 0.9 | 5  | - | - | 30    | 32  |\n",
    "| 0.9 | 10 | - | - | 30    | 32  |\n",
    "| 0.9 | 30 | - | - | 30  | 32  |\n",
    "| 0.9 | 50 | - | - | 30  |  32 | \n",
    "\n",
    "\n",
    "- Nearest\n",
    "\n",
    "| Alpha (Real/Sintetic) | Num Samples Interpolated | Valid Accuracy % | Test Accuracy % | Epochs | Mini-Batch Size |\n",
    "| --- | --- | --- | --- | -- | -- | \n",
    "| <font color='red'> 1 (no augmentation) </font> |  -  | <font color='red'> -  </font>| <font color='red'> -  </font> |  30  | 32 |\n",
    "| 0.5 | 5  | - | - |  30  | 32 |\n",
    "| 0.5 | 10 | - | - |  30  | 32 |\n",
    "| 0.5 | 30 | - | - |  30  | 32 |\n",
    "| 0.5 | 50 | - | - | 30    | 32 |\n",
    "| 0.7 | 5  | - | - | 30    | 32  |\n",
    "| 0.7 | 10 | - | - | 30    | 32  |\n",
    "| 0.7 | 30 | - | - | 30    | 32  |\n",
    "| 0.7 | 50 | - | - | 30    | 32  |\n",
    "| 0.9 | 5  | - | - | 30    | 32  |\n",
    "| 0.9 | 10 | - | - | 30    | 32  |\n",
    "| 0.9 | 30 | - | - | 30  | 32  |\n",
    "| 0.9 | 50 | - | - | 30  |  32 | \n",
    "\n",
    "- _Mixup_\n",
    "\n",
    "| Alpha (Real/Sintetic) | Num Samples Interpolated | Valid Accuracy % | Test Accuracy % | Epochs | Mini-Batch Size |\n",
    "| --- | --- | --- | --- | -- | -- | \n",
    "| <font color='red'> 1 (no augmentation) </font> |  -  | <font color='red'> -  </font>| <font color='red'> -  </font> |  30  | 32 |\n",
    "| 0.5 | 5  | - | - |  30  | 32 |\n",
    "| 0.5 | 10 | - | - |  30  | 32 |\n",
    "| 0.5 | 30 | - | - |  30  | 32 |\n",
    "| 0.5 | 50 | - | - | 30    | 32 |\n",
    "| 0.7 | 5  | - | - | 30    | 32  |\n",
    "| 0.7 | 10 | - | - | 30    | 32  |\n",
    "| 0.7 | 30 | - | - | 30    | 32  |\n",
    "| 0.7 | 50 | - | - | 30    | 32  |\n",
    "| 0.9 | 5  | - | - | 30    | 32  |\n",
    "| 0.9 | 10 | - | - | 30    | 32  |\n",
    "| 0.9 | 30 | - | - | 30  | 32  |\n",
    "| 0.9 | 50 | - | - | 30  |  32 | "
   ]
  }
 ],
 "metadata": {
  "kernelspec": {
   "display_name": "Python 3",
   "language": "python",
   "name": "python3"
  },
  "language_info": {
   "codemirror_mode": {
    "name": "ipython",
    "version": 3
   },
   "file_extension": ".py",
   "mimetype": "text/x-python",
   "name": "python",
   "nbconvert_exporter": "python",
   "pygments_lexer": "ipython3",
   "version": "3.6.7"
  }
 },
 "nbformat": 4,
 "nbformat_minor": 2
}
